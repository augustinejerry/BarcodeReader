{
 "cells": [
  {
   "cell_type": "code",
   "execution_count": 3,
   "metadata": {},
   "outputs": [],
   "source": [
    "#importing the libraries\n",
    "from pyzbar import pyzbar\n",
    "import cv2\n",
    "from glob import glob"
   ]
  },
  {
   "cell_type": "code",
   "execution_count": 4,
   "metadata": {},
   "outputs": [],
   "source": [
    "#method to decode the barcodes from the image\n",
    "def decode(image):\n",
    "    # decodes all barcodes from an image\n",
    "    decoded_objects = pyzbar.decode(image)\n",
    "    for obj in decoded_objects:\n",
    "        # draw the barcode\n",
    "        print(\"detected barcode:\", obj)\n",
    "        image = draw_barcode(obj, image)\n",
    "        # print barcode type and data\n",
    "        print(\"Type:\", obj.type)\n",
    "        print(\"Data:\", obj.data)\n",
    "        print()\n",
    "\n",
    "    return image"
   ]
  },
  {
   "cell_type": "code",
   "execution_count": 6,
   "metadata": {},
   "outputs": [],
   "source": [
    "#method to decode the barcodes into a set\n",
    "def decode_barcode_into_sets(image):\n",
    "    barcode = set()\n",
    "    # decodes all barcodes from an image\n",
    "    decoded_objects = pyzbar.decode(image)\n",
    "    for obj in decoded_objects:\n",
    "        barcode.add(str(obj.type) + \"|\" + str(obj.data))\n",
    "    return barcode"
   ]
  },
  {
   "cell_type": "code",
   "execution_count": 7,
   "metadata": {},
   "outputs": [],
   "source": [
    "#method to draw green rectangle around the barcode area\n",
    "def draw_barcode(decoded, image):\n",
    "    image = cv2.rectangle(image, (decoded.rect.left, decoded.rect.top), \n",
    "                            (decoded.rect.left + decoded.rect.width, decoded.rect.top + decoded.rect.height),\n",
    "                            color=(0, 255, 0),\n",
    "                            thickness=5)\n",
    "    return image"
   ]
  },
  {
   "cell_type": "code",
   "execution_count": 9,
   "metadata": {},
   "outputs": [
    {
     "name": "stdout",
     "output_type": "stream",
     "text": [
      "*****************************\n",
      "20201120_135906.jpg\n",
      "detected barcode: Decoded(data=b'0628915242294', type='EAN13', rect=Rect(left=779, top=307, width=533, height=3226), polygon=[Point(x=779, y=2463), Point(x=779, y=2635), Point(x=780, y=2745), Point(x=781, y=2813), Point(x=852, y=3533), Point(x=1095, y=3522), Point(x=1312, y=3496), Point(x=1312, y=3482), Point(x=1288, y=616), Point(x=1283, y=332), Point(x=1282, y=308), Point(x=1042, y=307), Point(x=805, y=307), Point(x=786, y=1763)])\n",
      "Type: EAN13\n",
      "Data: b'0628915242294'\n",
      "\n",
      "*****************************\n",
      "*****************************\n",
      "20201120_140106.jpg\n",
      "detected barcode: Decoded(data=b'0066942101007', type='EAN13', rect=Rect(left=718, top=2074, width=381, height=280), polygon=[Point(x=718, y=2303), Point(x=718, y=2351), Point(x=897, y=2353), Point(x=1095, y=2354), Point(x=1099, y=2098), Point(x=1099, y=2074), Point(x=726, y=2075), Point(x=725, y=2083), Point(x=724, y=2101)])\n",
      "Type: EAN13\n",
      "Data: b'0066942101007'\n",
      "\n",
      "detected barcode: Decoded(data=b'0622915248294', type='EAN13', rect=Rect(left=958, top=1208, width=197, height=5), polygon=[Point(x=958, y=1209), Point(x=959, y=1213), Point(x=1155, y=1212), Point(x=1155, y=1208)])\n",
      "Type: EAN13\n",
      "Data: b'0622915248294'\n",
      "\n",
      "detected barcode: Decoded(data=b'0628915242294', type='EAN13', rect=Rect(left=764, top=442, width=441, height=2692), polygon=[Point(x=764, y=3127), Point(x=764, y=3129), Point(x=965, y=3134), Point(x=1153, y=2920), Point(x=1205, y=662), Point(x=1205, y=624), Point(x=1204, y=442), Point(x=1016, y=451), Point(x=830, y=499), Point(x=829, y=501), Point(x=772, y=1039)])\n",
      "Type: EAN13\n",
      "Data: b'0628915242294'\n",
      "\n",
      "*****************************\n",
      "*****************************\n",
      "20201120_143652.jpg\n",
      "detected barcode: Decoded(data=b'0066942101007', type='EAN13', rect=Rect(left=1920, top=308, width=235, height=341), polygon=[Point(x=1920, y=642), Point(x=2134, y=649), Point(x=2148, y=649), Point(x=2154, y=489), Point(x=2155, y=320), Point(x=2153, y=319), Point(x=2135, y=318), Point(x=1957, y=309), Point(x=1931, y=308), Point(x=1921, y=308)])\n",
      "Type: EAN13\n",
      "Data: b'0066942101007'\n",
      "\n",
      "detected barcode: Decoded(data=b'0628915242294', type='EAN13', rect=Rect(left=1143, top=195, width=1480, height=1624), polygon=[Point(x=1143, y=195), Point(x=1144, y=526), Point(x=1168, y=1659), Point(x=1188, y=1817), Point(x=1382, y=1819), Point(x=2504, y=1816), Point(x=2518, y=1815), Point(x=2618, y=612), Point(x=2623, y=278), Point(x=1377, y=201), Point(x=1353, y=200), Point(x=1213, y=196), Point(x=1157, y=195)])\n",
      "Type: EAN13\n",
      "Data: b'0628915242294'\n",
      "\n",
      "*****************************\n",
      "*****************************\n",
      "20201120_143655.jpg\n",
      "detected barcode: Decoded(data=b'0066942101007', type='EAN13', rect=Rect(left=1920, top=249, width=237, height=346), polygon=[Point(x=1920, y=587), Point(x=2128, y=595), Point(x=2148, y=595), Point(x=2156, y=434), Point(x=2157, y=263), Point(x=2145, y=262), Point(x=1923, y=249), Point(x=1921, y=249)])\n",
      "Type: EAN13\n",
      "Data: b'0066942101007'\n",
      "\n",
      "detected barcode: Decoded(data=b'0628915242294', type='EAN13', rect=Rect(left=1134, top=132, width=1495, height=1643), polygon=[Point(x=1134, y=295), Point(x=1134, y=465), Point(x=1162, y=1611), Point(x=1246, y=1774), Point(x=1364, y=1775), Point(x=2482, y=1775), Point(x=2524, y=1774), Point(x=2622, y=559), Point(x=2629, y=224), Point(x=2615, y=223), Point(x=1371, y=138), Point(x=1195, y=132), Point(x=1155, y=132), Point(x=1135, y=285)])\n",
      "Type: EAN13\n",
      "Data: b'0628915242294'\n",
      "\n",
      "*****************************\n"
     ]
    }
   ],
   "source": [
    "barcodes = glob(\"20201120*.jpg\")\n",
    "for barcode_file in barcodes:\n",
    "    # load the image to opencv\n",
    "    print(\"*****************************\")\n",
    "    print(barcode_file)\n",
    "    img = cv2.imread(barcode_file)\n",
    "    # decode detected barcodes & get the image\n",
    "    # that is drawn\n",
    "    img = decode(img)\n",
    "    print(\"*****************************\")\n",
    "        \n",
    "    # show the image\n",
    "    cv2.imshow(\"img\", img)\n",
    "    cv2.imwrite(\"result\"+barcode_file, img)"
   ]
  },
  {
   "cell_type": "code",
   "execution_count": 10,
   "metadata": {},
   "outputs": [
    {
     "name": "stdout",
     "output_type": "stream",
     "text": [
      "{\"EAN13|b'0066942101007'\", \"EAN13|b'0628915242294'\", \"EAN13|b'0622915248294'\"}\n"
     ]
    }
   ],
   "source": [
    "#set for holding the barcodes\n",
    "barcode = set()\n",
    "barcodes = glob(\"20201120*.jpg\")\n",
    "for barcode_file in barcodes:\n",
    "    img = cv2.imread(barcode_file)\n",
    "    barcodes = decode_barcode_into_sets(img)\n",
    "    for b in barcodes:\n",
    "        barcode.add(b)    \n",
    "print(barcode)"
   ]
  }
 ],
 "metadata": {
  "kernelspec": {
   "display_name": "Python 3",
   "language": "python",
   "name": "python3"
  },
  "language_info": {
   "codemirror_mode": {
    "name": "ipython",
    "version": 3
   },
   "file_extension": ".py",
   "mimetype": "text/x-python",
   "name": "python",
   "nbconvert_exporter": "python",
   "pygments_lexer": "ipython3",
   "version": "3.7.4"
  }
 },
 "nbformat": 4,
 "nbformat_minor": 2
}
